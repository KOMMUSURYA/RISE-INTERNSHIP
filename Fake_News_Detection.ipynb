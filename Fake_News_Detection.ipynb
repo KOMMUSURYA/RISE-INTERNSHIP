{
  "nbformat": 4,
  "nbformat_minor": 0,
  "metadata": {
    "colab": {
      "provenance": []
    },
    "kernelspec": {
      "name": "python3",
      "display_name": "Python 3"
    },
    "language_info": {
      "name": "python"
    }
  },
  "cells": [
    {
      "cell_type": "code",
      "source": [
        "# Step 1: Import Libraries\n",
        "import pandas as pd\n",
        "from sklearn.model_selection import train_test_split\n",
        "from sklearn.feature_extraction.text import TfidfVectorizer\n",
        "from sklearn.linear_model import PassiveAggressiveClassifier\n",
        "from sklearn.metrics import accuracy_score, f1_score, classification_report\n",
        "\n",
        "#  Step 2: Create an Expanded Dummy Dataset\n",
        "data = {\n",
        "    'text': [\n",
        "        'Government launches new AI training scheme for youth.',\n",
        "        'Aliens have landed in Chennai, say local villagers.',\n",
        "        'WHO approves vaccine to fight latest virus variant.',\n",
        "        'Man cures cancer using garlic water, claims YouTube video.',\n",
        "        'India wins global coding championship with record score.',\n",
        "        'Flat Earth society says gravity is a hoax.',\n",
        "        'ISRO to launch human space mission by 2025.',\n",
        "        'Tomatoes can reverse aging in 5 days, says post.',\n",
        "        'Students build drone to deliver medicines in rural areas.',\n",
        "        'Time traveler appears in 2024 elections, claims article.',\n",
        "        'NASA releases first image of black hole.',\n",
        "        'Celebrity claims drinking shampoo boosts immunity.',\n",
        "        'Doctors perform world’s first robotic brain surgery.',\n",
        "        'Chocolate can cure all diseases, claims Facebook post.',\n",
        "        'Indian Railways introduces high-speed green trains.',\n",
        "        'Fake news spreads faster than truth, says study.',\n",
        "        'Moon is made of cheese, claims local news channel.',\n",
        "        'New AI app helps farmers detect crop disease early.',\n",
        "        'Drinking cold water after meals causes heart attacks.',\n",
        "        'UN praises India’s digital education reforms.'\n",
        "    ],\n",
        "    'label': [1, 0, 1, 0, 1, 0, 1, 0, 1, 0,\n",
        "              1, 0, 1, 0, 1, 1, 0, 1, 0, 1]  # 1 = Real, 0 = Fake\n",
        "}\n",
        "\n",
        "df = pd.DataFrame(data)\n",
        "\n",
        "#  Step 3: Split Data (70% Train, 30% Test)\n",
        "X = df['text']\n",
        "y = df['label']\n",
        "X_train, X_test, y_train, y_test = train_test_split(\n",
        "    X, y, test_size=0.3, random_state=42\n",
        ")\n",
        "\n",
        "#   Step 4: TF-IDF Vectorization\n",
        "vectorizer = TfidfVectorizer(stop_words='english', max_df=0.7)\n",
        "X_train_tfidf = vectorizer.fit_transform(X_train)\n",
        "X_test_tfidf = vectorizer.transform(X_test)\n",
        "\n",
        "# Step 5: Train Passive Aggressive Classifier\n",
        "model = PassiveAggressiveClassifier(max_iter=1000)\n",
        "model.fit(X_train_tfidf, y_train)\n",
        "\n",
        "#  Step 6: Predict & Evaluate\n",
        "y_pred = model.predict(X_test_tfidf)\n",
        "accuracy = accuracy_score(y_test, y_pred)\n",
        "f1 = f1_score(y_test, y_pred)\n",
        "\n",
        "#   Step 7: Show Results\n",
        "print(\"Accuracy:\", round(accuracy, 2))\n",
        "print(\" F1 Score:\", round(f1, 2))\n",
        "print(\"\\n Classification Report:\\n\", classification_report(y_test, y_pred, target_names=['Fake', 'Real']))\n"
      ],
      "metadata": {
        "colab": {
          "base_uri": "https://localhost:8080/"
        },
        "id": "TulEGaNrc8Bn",
        "outputId": "5b5013f6-7a50-4b38-d006-df3b6f1a1f63"
      },
      "execution_count": 35,
      "outputs": [
        {
          "output_type": "stream",
          "name": "stdout",
          "text": [
            "Accuracy: 0.83\n",
            " F1 Score: 0.86\n",
            "\n",
            " Classification Report:\n",
            "               precision    recall  f1-score   support\n",
            "\n",
            "        Fake       0.67      1.00      0.80         2\n",
            "        Real       1.00      0.75      0.86         4\n",
            "\n",
            "    accuracy                           0.83         6\n",
            "   macro avg       0.83      0.88      0.83         6\n",
            "weighted avg       0.89      0.83      0.84         6\n",
            "\n"
          ]
        }
      ]
    },
    {
      "cell_type": "code",
      "source": [],
      "metadata": {
        "id": "TdKmm6zCezOB"
      },
      "execution_count": null,
      "outputs": []
    }
  ]
}